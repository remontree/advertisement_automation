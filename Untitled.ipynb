{
 "cells": [
  {
   "cell_type": "code",
   "execution_count": null,
   "id": "865aceaa",
   "metadata": {},
   "outputs": [],
   "source": [
    "import upload\n",
    "import send\n",
    "from selenium import webdriver\n",
    "import time\n",
    "import pyautogui\n",
    "import pyperclip\n",
    "from selenium.webdriver.common.by import By\n",
    "import chromedriver_autoinstaller\n",
    "import openpyxl\n",
    "from selenium.webdriver.support.select import Select\n",
    "import pandas as pd\n",
    "import datetime\n",
    "import autoit\n",
    "\n",
    "if __name__ == \"__main__\":\n",
    "    sh = pd.read_excel(\"정보.xlsx\")\n",
    "    time_table = []\n",
    "    succees = 0\n",
    "    fail = 0\n",
    "\n",
    "    for i in list(sh[\"시간\"].to_numpy()):\n",
    "        time_table.append(\"{}.{}\".format(i.hour,i.minute))\n",
    "\n",
    "    while True:\n",
    "        now = datetime.datetime.now()\n",
    "        time_str = str(now.hour)+'.'+str(now.minute)\n",
    "        if (str(now.hour)==\"0\" and str(now.minute)==\"0\"):\n",
    "            log_message = \"<광고 자동화 로그>\\n업로드 성공: {}\\n업로드 실패: {}\".format(succees,fail)\n",
    "            succees = 0\n",
    "            fail = 0\n",
    "            send.send(log_message)\n",
    "        try:\n",
    "            if time_str in time_table:\n",
    "                idx = time_table.index(time_str)+2\n",
    "                upload.upload(idx)\n",
    "                log_message = \"\"\"현재 시각 {}\\n 업로드 성공\"\"\".format(time_str)\n",
    "                send.send(log_message)\n",
    "                succees+=1\n",
    "        except:\n",
    "            log_message = \"\"\"현재 시각 {}\\n 업로드 실패\"\"\".format(time_str)\n",
    "            send.send(log_message)\n",
    "            fail+=1\n",
    "        time.sleep(60)"
   ]
  },
  {
   "cell_type": "code",
   "execution_count": null,
   "id": "a79e0cc9",
   "metadata": {},
   "outputs": [],
   "source": []
  }
 ],
 "metadata": {
  "kernelspec": {
   "display_name": "Python 3",
   "language": "python",
   "name": "python3"
  },
  "language_info": {
   "codemirror_mode": {
    "name": "ipython",
    "version": 3
   },
   "file_extension": ".py",
   "mimetype": "text/x-python",
   "name": "python",
   "nbconvert_exporter": "python",
   "pygments_lexer": "ipython3",
   "version": "3.8.8"
  }
 },
 "nbformat": 4,
 "nbformat_minor": 5
}
